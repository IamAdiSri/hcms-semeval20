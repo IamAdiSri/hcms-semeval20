{
 "cells": [
  {
   "cell_type": "markdown",
   "metadata": {},
   "source": [
    "# HCMS at SemEval-2020 Task 9: A Neural Approach to Sentiment Analysis of Code-Mixed Texts\n",
    "_[Aditya Srivastava](https://www.github.com/IamAdiSri), [V. Harsha Vardhan](https://www.github.com/talent404)_\n",
    "\n",
    "The preprint can be viewed on [arXiv](https://arxiv.org/abs/2007.12076).\n",
    "\n",
    "## Task Description\n",
    "\n",
    "The task description and the accompanying data can be found [here](https://competitions.codalab.org/competitions/20654).\n",
    "\n",
    "## Requirements\n",
    "\n",
    "The code has been written in `Python 3.6.9`. Other requirements have been listed in `requirements.txt`.\n",
    "All data files are to be placed in the root folder of this repository."
   ]
  },
  {
   "cell_type": "code",
   "execution_count": null,
   "metadata": {
    "ExecuteTime": {
     "end_time": "2020-07-31T19:09:53.483219Z",
     "start_time": "2020-07-31T19:09:52.895095Z"
    }
   },
   "outputs": [],
   "source": [
    "from tqdm import tqdm_notebook as tqdm\n",
    "\n",
    "import itertools\n",
    "import emoji\n",
    "import re\n",
    "from keras.preprocessing.text import Tokenizer\n",
    "from keras.preprocessing.sequence import pad_sequences\n",
    "from sklearn import preprocessing\n",
    "from keras.utils import to_categorical\n",
    "\n",
    "from keras.models import Sequential\n",
    "from keras.layers import Embedding, Conv1D, MaxPooling1D\n",
    "from keras_self_attention import SeqSelfAttention\n",
    "from keras.layers import Flatten, Dropout, Dense\n",
    "\n",
    "import numpy as np\n",
    "import pandas as pd\n",
    "from sklearn.metrics import classification_report"
   ]
  },
  {
   "cell_type": "markdown",
   "metadata": {},
   "source": [
    "## Data Pipeline"
   ]
  },
  {
   "cell_type": "markdown",
   "metadata": {},
   "source": [
    "### Loading and Parsing"
   ]
  },
  {
   "cell_type": "code",
   "execution_count": null,
   "metadata": {
    "ExecuteTime": {
     "end_time": "2020-07-31T19:07:16.569270Z",
     "start_time": "2020-07-31T19:06:15.693Z"
    },
    "code_folding": [
     0
    ]
   },
   "outputs": [],
   "source": [
    "def parse_lines(lines):\n",
    "    u = [] # uids\n",
    "    t = [] # tokens\n",
    "    l = [] # token labels\n",
    "    s = [] # sentiment labels\n",
    "    max_length = 0\n",
    "\n",
    "    print(\"Parsing lines from file...\")\n",
    "    for i, line in tqdm(enumerate(lines), total=len(lines)):\n",
    "        line = line.strip().split('\\t')\n",
    "        if line[0]=='meta':\n",
    "            if i!=0:\n",
    "                u.append(buffer_id)\n",
    "                t.append(buffer_tokens)\n",
    "                l.append(buffer_labels)\n",
    "                s.append(buffer_sentiment)\n",
    "                if len(buffer_tokens) > max_length:\n",
    "                    max_length = len(buffer_tokens)\n",
    "            buffer_id = line[1]\n",
    "            try:\n",
    "                buffer_sentiment = line[2]\n",
    "            except:\n",
    "                buffer_sentiment = ''\n",
    "            buffer_tokens = []\n",
    "            buffer_labels = []\n",
    "        else:\n",
    "            buffer_tokens.append(line[0])\n",
    "            try:\n",
    "                buffer_labels.append(line[1])\n",
    "            except:\n",
    "                buffer_labels.append('')\n",
    "\n",
    "    u.append(buffer_id)\n",
    "    t.append(buffer_tokens)\n",
    "    l.append(buffer_labels)\n",
    "    s.append(buffer_sentiment)\n",
    "    if len(buffer_tokens) > max_length:\n",
    "        max_length = len(buffer_tokens)\n",
    "\n",
    "    num_samples = len(u)\n",
    "    \n",
    "    return u, t, l, s, max_length"
   ]
  },
  {
   "cell_type": "code",
   "execution_count": null,
   "metadata": {
    "ExecuteTime": {
     "end_time": "2020-07-31T19:07:16.579244Z",
     "start_time": "2020-07-31T19:06:18.167Z"
    }
   },
   "outputs": [],
   "source": [
    "train = open('train_14k_split_conll.txt', encoding='utf8').readlines()\n",
    "valid = open('dev_3k_split_conll.txt', encoding='utf8').readlines()\n",
    "test = open('Hindi_test_unalbelled_conll_updated.txt', encoding='utf8').readlines()\n",
    "\n",
    "u_train, t_train, l_train, s_train, max_length = parse_lines(train)\n",
    "u_dev, t_dev, l_dev, s_dev, max_length_dev = parse_lines(valid)\n",
    "u_test, t_test, l_test, s_test, max_length_test = parse_lines(test)"
   ]
  },
  {
   "cell_type": "markdown",
   "metadata": {},
   "source": [
    "### Cleaning"
   ]
  },
  {
   "cell_type": "code",
   "execution_count": null,
   "metadata": {
    "ExecuteTime": {
     "end_time": "2020-07-31T19:08:51.747175Z",
     "start_time": "2020-07-31T19:08:51.529298Z"
    },
    "code_folding": [
     2,
     63,
     192,
     223
    ]
   },
   "outputs": [],
   "source": [
    "# source: https://en.wikipedia.org/wiki/List_of_emoticons\n",
    "def load_dict_smileys():\n",
    "    return {\n",
    "        \":‑)\":\"smiley\",\n",
    "        \":-]\":\"smiley\",\n",
    "        \":-3\":\"smiley\",\n",
    "        \":->\":\"smiley\",\n",
    "        \"8-)\":\"smiley\",\n",
    "        \":-}\":\"smiley\",\n",
    "        \":)\":\"smiley\",\n",
    "        \":]\":\"smiley\",\n",
    "        \":3\":\"smiley\",\n",
    "        \":>\":\"smiley\",\n",
    "        \"8)\":\"smiley\",\n",
    "        \":}\":\"smiley\",\n",
    "        \":o)\":\"smiley\",\n",
    "        \":c)\":\"smiley\",\n",
    "        \":^)\":\"smiley\",\n",
    "        \"=]\":\"smiley\",\n",
    "        \"=)\":\"smiley\",\n",
    "        \":-))\":\"smiley\",\n",
    "        \":‑D\":\"smiley\",\n",
    "        \"8‑D\":\"smiley\",\n",
    "        \"x‑D\":\"smiley\",\n",
    "        \"X‑D\":\"smiley\",\n",
    "        \":D\":\"smiley\",\n",
    "        \"8D\":\"smiley\",\n",
    "        \"xD\":\"smiley\",\n",
    "        \"XD\":\"smiley\",\n",
    "        \":‑(\":\"sad\",\n",
    "        \":‑c\":\"sad\",\n",
    "        \":‑<\":\"sad\",\n",
    "        \":‑[\":\"sad\",\n",
    "        \":(\":\"sad\",\n",
    "        \":c\":\"sad\",\n",
    "        \":<\":\"sad\",\n",
    "        \":[\":\"sad\",\n",
    "        \":-||\":\"sad\",\n",
    "        \">:[\":\"sad\",\n",
    "        \":{\":\"sad\",\n",
    "        \":@\":\"sad\",\n",
    "        \">:(\":\"sad\",\n",
    "        \":'‑(\":\"sad\",\n",
    "        \":'(\":\"sad\",\n",
    "        \":‑P\":\"playful\",\n",
    "        \"X‑P\":\"playful\",\n",
    "        \"x‑p\":\"playful\",\n",
    "        \":‑p\":\"playful\",\n",
    "        \":‑Þ\":\"playful\",\n",
    "        \":‑þ\":\"playful\",\n",
    "        \":‑b\":\"playful\",\n",
    "        \":P\":\"playful\",\n",
    "        \"XP\":\"playful\",\n",
    "        \"xp\":\"playful\",\n",
    "        \":p\":\"playful\",\n",
    "        \":Þ\":\"playful\",\n",
    "        \":þ\":\"playful\",\n",
    "        \":b\":\"playful\",\n",
    "        \"<3\":\"love\"\n",
    "        }\n",
    "\n",
    "# source: https://en.wikipedia.org/wiki/Contraction_%28grammar%29\n",
    "def load_dict_contractions():\n",
    "    return {\n",
    "        \"ain't\":\"is not\",\n",
    "        \"amn't\":\"am not\",\n",
    "        \"aren't\":\"are not\",\n",
    "        \"can't\":\"cannot\",\n",
    "        \"'cause\":\"because\",\n",
    "        \"couldn't\":\"could not\",\n",
    "        \"couldn't've\":\"could not have\",\n",
    "        \"could've\":\"could have\",\n",
    "        \"daren't\":\"dare not\",\n",
    "        \"daresn't\":\"dare not\",\n",
    "        \"dasn't\":\"dare not\",\n",
    "        \"didn't\":\"did not\",\n",
    "        \"doesn't\":\"does not\",\n",
    "        \"don't\":\"do not\",\n",
    "        \"e'er\":\"ever\",\n",
    "        \"em\":\"them\",\n",
    "        \"everyone's\":\"everyone is\",\n",
    "        \"finna\":\"fixing to\",\n",
    "        \"gimme\":\"give me\",\n",
    "        \"gonna\":\"going to\",\n",
    "        \"gon't\":\"go not\",\n",
    "        \"gotta\":\"got to\",\n",
    "        \"hadn't\":\"had not\",\n",
    "        \"hasn't\":\"has not\",\n",
    "        \"haven't\":\"have not\",\n",
    "        \"he'd\":\"he would\",\n",
    "        \"he'll\":\"he will\",\n",
    "        \"he's\":\"he is\",\n",
    "        \"he've\":\"he have\",\n",
    "        \"how'd\":\"how would\",\n",
    "        \"how'll\":\"how will\",\n",
    "        \"how're\":\"how are\",\n",
    "        \"how's\":\"how is\",\n",
    "        \"I'd\":\"I would\",\n",
    "        \"I'll\":\"I will\",\n",
    "        \"I'm\":\"I am\",\n",
    "        \"I'm'a\":\"I am about to\",\n",
    "        \"I'm'o\":\"I am going to\",\n",
    "        \"isn't\":\"is not\",\n",
    "        \"it'd\":\"it would\",\n",
    "        \"it'll\":\"it will\",\n",
    "        \"it's\":\"it is\",\n",
    "        \"I've\":\"I have\",\n",
    "        \"kinda\":\"kind of\",\n",
    "        \"let's\":\"let us\",\n",
    "        \"mayn't\":\"may not\",\n",
    "        \"may've\":\"may have\",\n",
    "        \"mightn't\":\"might not\",\n",
    "        \"might've\":\"might have\",\n",
    "        \"mustn't\":\"must not\",\n",
    "        \"mustn't've\":\"must not have\",\n",
    "        \"must've\":\"must have\",\n",
    "        \"needn't\":\"need not\",\n",
    "        \"ne'er\":\"never\",\n",
    "        \"o'\":\"of\",\n",
    "        \"o'er\":\"over\",\n",
    "        \"ol'\":\"old\",\n",
    "        \"oughtn't\":\"ought not\",\n",
    "        \"shalln't\":\"shall not\",\n",
    "        \"shan't\":\"shall not\",\n",
    "        \"she'd\":\"she would\",\n",
    "        \"she'll\":\"she will\",\n",
    "        \"she's\":\"she is\",\n",
    "        \"shouldn't\":\"should not\",\n",
    "        \"shouldn't've\":\"should not have\",\n",
    "        \"should've\":\"should have\",\n",
    "        \"somebody's\":\"somebody is\",\n",
    "        \"someone's\":\"someone is\",\n",
    "        \"something's\":\"something is\",\n",
    "        \"that'd\":\"that would\",\n",
    "        \"that'll\":\"that will\",\n",
    "        \"that're\":\"that are\",\n",
    "        \"that's\":\"that is\",\n",
    "        \"there'd\":\"there would\",\n",
    "        \"there'll\":\"there will\",\n",
    "        \"there're\":\"there are\",\n",
    "        \"there's\":\"there is\",\n",
    "        \"these're\":\"these are\",\n",
    "        \"they'd\":\"they would\",\n",
    "        \"they'll\":\"they will\",\n",
    "        \"they're\":\"they are\",\n",
    "        \"they've\":\"they have\",\n",
    "        \"this's\":\"this is\",\n",
    "        \"those're\":\"those are\",\n",
    "        \"'tis\":\"it is\",\n",
    "        \"'twas\":\"it was\",\n",
    "        \"wanna\":\"want to\",\n",
    "        \"wasn't\":\"was not\",\n",
    "        \"we'd\":\"we would\",\n",
    "        \"we'd've\":\"we would have\",\n",
    "        \"we'll\":\"we will\",\n",
    "        \"we're\":\"we are\",\n",
    "        \"weren't\":\"were not\",\n",
    "        \"we've\":\"we have\",\n",
    "        \"what'd\":\"what did\",\n",
    "        \"what'll\":\"what will\",\n",
    "        \"what're\":\"what are\",\n",
    "        \"what's\":\"what is\",\n",
    "        \"what've\":\"what have\",\n",
    "        \"when's\":\"when is\",\n",
    "        \"where'd\":\"where did\",\n",
    "        \"where're\":\"where are\",\n",
    "        \"where's\":\"where is\",\n",
    "        \"where've\":\"where have\",\n",
    "        \"which's\":\"which is\",\n",
    "        \"who'd\":\"who would\",\n",
    "        \"who'd've\":\"who would have\",\n",
    "        \"who'll\":\"who will\",\n",
    "        \"who're\":\"who are\",\n",
    "        \"who's\":\"who is\",\n",
    "        \"who've\":\"who have\",\n",
    "        \"why'd\":\"why did\",\n",
    "        \"why're\":\"why are\",\n",
    "        \"why's\":\"why is\",\n",
    "        \"won't\":\"will not\",\n",
    "        \"wouldn't\":\"would not\",\n",
    "        \"would've\":\"would have\",\n",
    "        \"y'all\":\"you all\",\n",
    "        \"you'd\":\"you would\",\n",
    "        \"you'll\":\"you will\",\n",
    "        \"you're\":\"you are\",\n",
    "        \"you've\":\"you have\",\n",
    "        \"Whatcha\":\"What are you\",\n",
    "        \"luv\":\"love\",\n",
    "        \"sux\":\"sucks\"\n",
    "        }\n",
    "\n",
    "\n",
    "def tweet_cleaning_for_sentiment_analysis(tweet):\n",
    "    # lower case\n",
    "    tweet = tweet.lower()\n",
    "        \n",
    "    # replace contractions\n",
    "    CONTRACTIONS = load_dict_contractions()\n",
    "    tweet = tweet.replace(\"’\",\"'\")\n",
    "    words = tweet.split()\n",
    "    reformed = [CONTRACTIONS[word] if word in CONTRACTIONS else word for word in words]\n",
    "    tweet = \" \".join(reformed)\n",
    "    \n",
    "    # standardizing words\n",
    "    tweet = ''.join(''.join(s)[:2] for _, s in itertools.groupby(tweet))\n",
    "    \n",
    "    # replace emoticons\n",
    "    SMILEY = load_dict_smileys()  \n",
    "    words = tweet.split()\n",
    "    reformed = [SMILEY[word] if word in SMILEY else word for word in words]\n",
    "    tweet = \" \".join(reformed)\n",
    "    \n",
    "    # demojize emojis\n",
    "    tweet = emoji.demojize(tweet)\n",
    "    \n",
    "    # other cleaning\n",
    "    tweet = tweet.replace(\":\",\" \")\n",
    "    tweet = ' '.join(tweet.split())\n",
    "    # replace duplicate characters\n",
    "    tweet = re.sub(r\"(.)\\1{2,}\", r'\\1\\1', tweet)\n",
    "\n",
    "    return tweet\n",
    "\n",
    "def clean(t,l):\n",
    "    for i in range(len(t)):\n",
    "        temp = tweet_cleaning_for_sentiment_analysis(' '.join(t[i])).split(' ')\n",
    "        t[i] = []\n",
    "        j=0\n",
    "        while j<len(temp):\n",
    "            t[i].append(temp[j])\n",
    "            j+=1\n",
    "        \n",
    "    return t, l"
   ]
  },
  {
   "cell_type": "code",
   "execution_count": null,
   "metadata": {
    "ExecuteTime": {
     "end_time": "2020-07-31T19:08:55.269389Z",
     "start_time": "2020-07-31T19:08:52.920246Z"
    }
   },
   "outputs": [],
   "source": [
    "t_train, l_train = clean(t_train, l_train)\n",
    "t_dev, l_dev = clean(t_dev, l_dev)\n",
    "t_test, l_test = clean(t_test, l_test)"
   ]
  },
  {
   "cell_type": "markdown",
   "metadata": {},
   "source": [
    "### Preprocessing"
   ]
  },
  {
   "cell_type": "code",
   "execution_count": null,
   "metadata": {
    "ExecuteTime": {
     "end_time": "2020-07-31T19:09:10.089697Z",
     "start_time": "2020-07-31T19:09:09.071221Z"
    }
   },
   "outputs": [],
   "source": [
    "tok_w = Tokenizer(char_level=False,lower=True,oov_token='UNK')\n",
    "tok_w.fit_on_texts(t_train) \n",
    "\n",
    "MAX_LEN = 60\n",
    "trainInput_w = pad_sequences(tok_w.texts_to_sequences(t_train),\n",
    "                          maxlen=MAX_LEN, padding=\"post\")\n",
    "\n",
    "valInput_w = pad_sequences(tok_w.texts_to_sequences(t_dev) ,\n",
    "                          maxlen=MAX_LEN, padding=\"post\")\n",
    "testInput_w = pad_sequences(tok_w.texts_to_sequences(t_test),\n",
    "                          maxlen=MAX_LEN, padding=\"post\")"
   ]
  },
  {
   "cell_type": "code",
   "execution_count": null,
   "metadata": {
    "ExecuteTime": {
     "end_time": "2020-07-31T19:09:12.018799Z",
     "start_time": "2020-07-31T19:09:11.863485Z"
    }
   },
   "outputs": [],
   "source": [
    "le = preprocessing.LabelEncoder()\n",
    "le.fit(s_train)\n",
    "\n",
    "trainLabels = to_categorical(le.transform(s_train))\n",
    "valLabels = to_categorical(le.transform(s_dev))"
   ]
  },
  {
   "cell_type": "markdown",
   "metadata": {},
   "source": [
    "## Classifier Pipeline"
   ]
  },
  {
   "cell_type": "markdown",
   "metadata": {},
   "source": [
    "### Model Architecture, Optimizer, Loss Function and Hyperparameters"
   ]
  },
  {
   "cell_type": "code",
   "execution_count": null,
   "metadata": {
    "ExecuteTime": {
     "end_time": "2020-07-31T19:10:11.356781Z",
     "start_time": "2020-07-31T19:10:10.748014Z"
    }
   },
   "outputs": [],
   "source": [
    "max_features = len(tok_w.word_index)\n",
    "maxlen = 60\n",
    "embedding_size = 100\n",
    "\n",
    "# Convolution\n",
    "kernel_size = 5\n",
    "filters = 128\n",
    "pool_size = 4\n",
    "\n",
    "model = Sequential()\n",
    "model.add(Embedding(max_features+1, embedding_size, input_length=maxlen))\n",
    "model.add(Conv1D(filters,\n",
    "                 kernel_size,\n",
    "                 padding='valid',\n",
    "                 activation='relu',\n",
    "                 strides=1))\n",
    "model.add(MaxPooling1D(pool_size=pool_size))\n",
    "model.add(SeqSelfAttention(attention_activation='sigmoid'))\n",
    "model.add(Flatten())\n",
    "model.add(Dropout(0.2))\n",
    "model.add(Dense(3, activation='softmax'))\n",
    "model.compile(loss='categorical_crossentropy',\n",
    "              optimizer='adam',\n",
    "              metrics=['accuracy'])"
   ]
  },
  {
   "cell_type": "markdown",
   "metadata": {},
   "source": [
    "# Train"
   ]
  },
  {
   "cell_type": "code",
   "execution_count": null,
   "metadata": {
    "ExecuteTime": {
     "start_time": "2020-07-31T19:10:20.614Z"
    }
   },
   "outputs": [],
   "source": [
    "model.fit([trainInput_w], trainLabels,\n",
    "          batch_size=32,\n",
    "          validation_data=(valInput_w,valLabels),\n",
    "          epochs=1)"
   ]
  },
  {
   "cell_type": "markdown",
   "metadata": {},
   "source": [
    "## Test"
   ]
  },
  {
   "cell_type": "markdown",
   "metadata": {},
   "source": [
    "### Make Predictions on Test Set"
   ]
  },
  {
   "cell_type": "code",
   "execution_count": null,
   "metadata": {
    "ExecuteTime": {
     "start_time": "2020-07-31T19:10:46.569Z"
    },
    "code_folding": [
     4
    ]
   },
   "outputs": [],
   "source": [
    "predictions = model.predict([testInput_w])\n",
    "predictions = np.argmax(predictions,axis=-1)\n",
    "\n",
    "# write predictions to file\n",
    "with open('preds.txt', 'w') as out:\n",
    "    out.write('Uid,Sentiment')\n",
    "    for i, uid in enumerate(u_test):\n",
    "        if predictions[i] == 0:\n",
    "            sentiment = 'negative'\n",
    "        elif predictions[i] == 1:\n",
    "            sentiment = 'neutral'\n",
    "        else:\n",
    "            sentiment = 'positive'\n",
    "        out.write(\"\\n%s,%s\"%(uid, sentiment))"
   ]
  },
  {
   "cell_type": "markdown",
   "metadata": {},
   "source": [
    "### Evaluate Test Predictions"
   ]
  },
  {
   "cell_type": "code",
   "execution_count": null,
   "metadata": {},
   "outputs": [],
   "source": [
    "# load correct labels\n",
    "test = pd.read_csv('test_labels_hinglish.txt')\n",
    "# load predictions\n",
    "preds = pd.read_csv('preds.txt')\n",
    "\n",
    "# compute evaluation metrics\n",
    "results = {'preds': classification_report(test['Sentiment'], \n",
    "                                          preds['Sentiment'], \n",
    "                                          labels=['positive', 'neutral', 'negative'], \n",
    "                                          output_dict=True, digits=6)}"
   ]
  },
  {
   "cell_type": "code",
   "execution_count": null,
   "metadata": {},
   "outputs": [],
   "source": [
    "# format and print scores\n",
    "formatted_results = [['model', 'precision', 'recall', 'accuracy', 'f1-score']]\n",
    "for ki in results.keys():\n",
    "    scores = results[ki]['macro avg']\n",
    "    model = [ki, scores['precision'], scores['recall'], results[ki]['accuracy'], scores['f1-score']]\n",
    "    formatted_results.append(model)\n",
    "    \n",
    "formatted_results = pd.DataFrame(formatted_results[1:], columns=formatted_results[0])\n",
    "print(formatted_results)"
   ]
  }
 ],
 "metadata": {
  "kernelspec": {
   "display_name": "Python 3",
   "language": "python",
   "name": "python3"
  },
  "language_info": {
   "codemirror_mode": {
    "name": "ipython",
    "version": 3
   },
   "file_extension": ".py",
   "mimetype": "text/x-python",
   "name": "python",
   "nbconvert_exporter": "python",
   "pygments_lexer": "ipython3",
   "version": "3.6.5"
  },
  "varInspector": {
   "cols": {
    "lenName": 16,
    "lenType": 16,
    "lenVar": 40
   },
   "kernels_config": {
    "python": {
     "delete_cmd_postfix": "",
     "delete_cmd_prefix": "del ",
     "library": "var_list.py",
     "varRefreshCmd": "print(var_dic_list())"
    },
    "r": {
     "delete_cmd_postfix": ") ",
     "delete_cmd_prefix": "rm(",
     "library": "var_list.r",
     "varRefreshCmd": "cat(var_dic_list()) "
    }
   },
   "types_to_exclude": [
    "module",
    "function",
    "builtin_function_or_method",
    "instance",
    "_Feature"
   ],
   "window_display": false
  }
 },
 "nbformat": 4,
 "nbformat_minor": 2
}
